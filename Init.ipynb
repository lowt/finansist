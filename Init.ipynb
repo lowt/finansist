{
 "cells": [
  {
   "cell_type": "code",
   "execution_count": null,
   "metadata": {},
   "outputs": [],
   "source": [
    "import MetaTrader5 as mt5\n",
    " \n",
    "# подключимся к MetaTrader 5\n",
    "if not mt5.initialize(\n",
    "    login=15035414,              \n",
    "    password=\"Trader123\",      \n",
    "    server=\"Alpari-MT5\"):\n",
    "    print(\"initialize() failed\")\n",
    "    mt5.shutdown()\n",
    " \n",
    " \n",
    "# завершим подключение к MetaTrader 5\n",
    "#mt5.shutdown()"
   ]
  }
 ],
 "metadata": {
  "kernelspec": {
   "display_name": "Python 3",
   "language": "python",
   "name": "python3"
  },
  "language_info": {
   "codemirror_mode": {
    "name": "ipython",
    "version": 3
   },
   "file_extension": ".py",
   "mimetype": "text/x-python",
   "name": "python",
   "nbconvert_exporter": "python",
   "pygments_lexer": "ipython3",
   "version": "3.9.0"
  }
 },
 "nbformat": 4,
 "nbformat_minor": 4
}
